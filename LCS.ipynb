{
 "cells": [
  {
   "cell_type": "code",
   "execution_count": 10,
   "id": "d44606d1",
   "metadata": {},
   "outputs": [],
   "source": [
    "import random\n",
    "import numpy as np\n",
    "import matplotlib.pyplot as plt"
   ]
  },
  {
   "cell_type": "code",
   "execution_count": 11,
   "id": "8f019739",
   "metadata": {},
   "outputs": [],
   "source": [
    "def LCS(N, a, c, m):\n",
    "    x_array = []\n",
    "    x = random.random()\n",
    "    for i in range(N):\n",
    "        #print(\"x = \", x)\n",
    "        x1 = (a*x +c) % m\n",
    "        x_array.append(x1)\n",
    "        x = x1\n",
    "    return x_array"
   ]
  },
  {
   "cell_type": "code",
   "execution_count": 12,
   "id": "6615fd2c",
   "metadata": {},
   "outputs": [
    {
     "name": "stdout",
     "output_type": "stream",
     "text": [
      "x_array =  [74.60630786 69.47308918 84.48168844 10.12663281 33.49746065 86.30954863\n",
      " 47.21614745 15.2110588  14.82940964 86.20572309 39.4292316  31.19237015\n",
      " 13.42776152 81.08211373 55.15852995 10.88974625 90.7309691  78.82268244\n",
      " 85.70118284  1.58871297 93.15347289 60.51046654 12.28499015 95.37426112\n",
      " 27.06958395  4.21879662 90.40974658 54.7309937  78.8245275  85.8395627\n",
      " 11.96720246 71.54018477 39.51385799 37.53934898 89.45117344 82.83800776\n",
      " 86.85058177 87.79363263 58.52244755 63.18356598 12.76744822 31.55861684\n",
      " 40.89626311 41.21973327 65.47999525 84.99964341 48.97325583 46.99418747\n",
      " 98.56406007 66.30450531 46.83789859 86.84239455 87.17959139 12.46935443\n",
      "  9.20158235 64.11867632 82.90072366 91.55427482 40.57061159 16.79586933\n",
      " 33.69019956  0.76496684 31.37251277 26.93845802 94.3843515  52.82636239\n",
      " 35.9771792  72.28843971 95.63297822 46.47336668 59.50250072 36.68755436\n",
      " 25.56657729 91.49329669 35.99725183 73.79388693  8.54151949 14.61396182\n",
      " 70.04713633 27.53522501 39.14187609  9.64070683 97.0530124  52.9759298\n",
      " 47.19473483 13.60511261 94.38344604 52.75845288 30.88396567 90.29742489\n",
      " 46.30686676 47.01500696  0.12552208 83.41415632 30.06172364 28.62927319\n",
      " 21.1954891  63.6616822  48.62616537 20.96240285]\n"
     ]
    }
   ],
   "source": [
    "#a is the \n",
    "\n",
    "N = 100\n",
    "a = 75\n",
    "c = 74\n",
    "m = 100\n",
    "#print(\"m = \", m)\n",
    "x_array = np.asarray(LCS(N, a, c, m))\n",
    "\n",
    "\n",
    "\n",
    "print(\"x_array = \", x_array)"
   ]
  },
  {
   "cell_type": "code",
   "execution_count": 13,
   "id": "d762d686",
   "metadata": {},
   "outputs": [
    {
     "name": "stdout",
     "output_type": "stream",
     "text": [
      "y_array =  [ 0.  1.  2.  3.  4.  5.  6.  7.  8.  9. 10. 11. 12. 13. 14. 15. 16. 17.\n",
      " 18. 19. 20. 21. 22. 23. 24. 25. 26. 27. 28. 29. 30. 31. 32. 33. 34. 35.\n",
      " 36. 37. 38. 39. 40. 41. 42. 43. 44. 45. 46. 47. 48. 49. 50. 51. 52. 53.\n",
      " 54. 55. 56. 57. 58. 59. 60. 61. 62. 63. 64. 65. 66. 67. 68. 69. 70. 71.\n",
      " 72. 73. 74. 75. 76. 77. 78. 79. 80. 81. 82. 83. 84. 85. 86. 87. 88. 89.\n",
      " 90. 91. 92. 93. 94. 95. 96. 97. 98. 99.]\n"
     ]
    },
    {
     "data": {
      "text/plain": [
       "[<matplotlib.lines.Line2D at 0x74b341bc68c0>]"
      ]
     },
     "execution_count": 13,
     "metadata": {},
     "output_type": "execute_result"
    },
    {
     "data": {
      "image/png": "[encoded data removed]",
      "text/plain": [
       "<Figure size 432x288 with 1 Axes>"
      ]
     },
     "metadata": {
      "needs_background": "light"
     },
     "output_type": "display_data"
    }
   ],
   "source": [
    "plt.figure()\n",
    "y_array = np.linspace(0,N-1, N)\n",
    "#print(\"x_array = \", x_array)\n",
    "print(\"y_array = \", y_array)\n",
    "plt.plot(x_array, y_array, 'o')"
   ]
  },
  {
   "cell_type": "code",
   "execution_count": 15,
   "id": "e3399ea3",
   "metadata": {},
   "outputs": [
    {
     "name": "stdout",
     "output_type": "stream",
     "text": [
      "x_array =  [50 41 21 35 87  4 36  6 67 66 91 55 21 78 43 75 91 11  2 92 36 56 19 50\n",
      " 79 68 78 30 26 72 29 11 96 43 20 64 10 13 37 32 60 88 23 35 85 75 50 63\n",
      " 92 66 27 67 27 76 61 43  6 46 73 91 77 30  0 77 52 89 29 94 69 83  1  3\n",
      " 69 99 12 77 70 27 77 37  8 91 86 44 80 83 10 52 26 88 39 63  8 93 45 78\n",
      " 85 69 39 85]\n"
     ]
    },
    {
     "data": {
      "text/plain": [
       "[<matplotlib.lines.Line2D at 0x74b341aa81f0>]"
      ]
     },
     "execution_count": 15,
     "metadata": {},
     "output_type": "execute_result"
    },
    {
     "data": {
      "image/png": "[encoded data removed]",
      "text/plain": [
       "<Figure size 432x288 with 1 Axes>"
      ]
     },
     "metadata": {
      "needs_background": "light"
     },
     "output_type": "display_data"
    }
   ],
   "source": [
    "#numpy.random\n",
    "\n",
    "rng = np.random.default_rng()\n",
    "\n",
    "x_array = rng.integers(0, N, N)\n",
    "\n",
    "plt.figure()\n",
    "y_array = np.linspace(0,N-1, N)\n",
    "print(\"x_array = \", x_array)\n",
    "#print(\"y_array = \", y_array)\n",
    "plt.plot(x_array, y_array, 'o', c='r')"
   ]
  },
  {
   "cell_type": "code",
   "execution_count": null,
   "id": "2dc6f336",
   "metadata": {},
   "outputs": [],
   "source": []
  }
 ],
 "metadata": {
  "kernelspec": {
   "display_name": "Python 3 (ipykernel)",
   "language": "python",
   "name": "python3"
  },
  "language_info": {
   "codemirror_mode": {
    "name": "ipython",
    "version": 3
   },
   "file_extension": ".py",
   "mimetype": "text/x-python",
   "name": "python",
   "nbconvert_exporter": "python",
   "pygments_lexer": "ipython3",
   "version": "3.10.12"
  }
 },
 "nbformat": 4,
 "nbformat_minor": 5
}
