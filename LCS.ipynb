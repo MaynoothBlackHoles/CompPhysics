{
 "cells": [
  {
   "cell_type": "code",
   "execution_count": 1,
   "id": "d44606d1",
   "metadata": {},
   "outputs": [],
   "source": [
    "import random\n",
    "import numpy as np\n",
    "import matplotlib.pyplot as plt"
   ]
  },
  {
   "cell_type": "code",
   "execution_count": 2,
   "id": "8f019739",
   "metadata": {},
   "outputs": [],
   "source": [
    "def LCS(N, a, c, m):\n",
    "    x_array = []\n",
    "    x = random.random()\n",
    "    for i in range(N):\n",
    "        #print(\"x = \", x)\n",
    "        x1 = (a*x +c) % m\n",
    "        x_array.append(x1)\n",
    "        x = x1\n",
    "    return x_array"
   ]
  },
  {
   "cell_type": "code",
   "execution_count": 3,
   "id": "6615fd2c",
   "metadata": {},
   "outputs": [],
   "source": [
    "#a is the \n",
    "\n",
    "N = 100\n",
    "a = 75\n",
    "c = 74\n",
    "m = 1000\n",
    "#print(\"m = \", m)\n",
    "x_array = np.asarray(LCS(N, a, c, m))\n",
    "\n",
    "\n",
    "\n",
    "#print(\"x_array = \", np.amax(x_array))"
   ]
  },
  {
   "cell_type": "code",
   "execution_count": 4,
   "id": "d762d686",
   "metadata": {},
   "outputs": [
    {
     "data": {
      "text/plain": [
       "[<matplotlib.lines.Line2D at 0x74b349ddf670>]"
      ]
     },
     "execution_count": 4,
     "metadata": {},
     "output_type": "execute_result"
    },
    {
     "data": {
      "image/png": "[encoded data removed]",
      "text/plain": [
       "<Figure size 432x288 with 1 Axes>"
      ]
     },
     "metadata": {
      "needs_background": "light"
     },
     "output_type": "display_data"
    }
   ],
   "source": [
    "plt.figure()\n",
    "y_array = np.linspace(0,N-1, N)\n",
    "#print(\"x_array = \", x_array)\n",
    "#print(\"y_array = \", y_array)\n",
    "plt.plot(x_array, y_array, 'o')"
   ]
  },
  {
   "cell_type": "code",
   "execution_count": 5,
   "id": "e3399ea3",
   "metadata": {},
   "outputs": [
    {
     "data": {
      "text/plain": [
       "[<matplotlib.lines.Line2D at 0x74b341b0c790>]"
      ]
     },
     "execution_count": 5,
     "metadata": {},
     "output_type": "execute_result"
    },
    {
     "data": {
      "image/png": "[encoded data removed]",
      "text/plain": [
       "<Figure size 432x288 with 1 Axes>"
      ]
     },
     "metadata": {
      "needs_background": "light"
     },
     "output_type": "display_data"
    }
   ],
   "source": [
    "#numpy.random\n",
    "\n",
    "rng = np.random.default_rng()\n",
    "\n",
    "x_array = rng.integers(0, N, N)\n",
    "\n",
    "plt.figure()\n",
    "y_array = np.linspace(0,N-1, N)\n",
    "#print(\"x_array = \", x_array)\n",
    "#print(\"y_array = \", y_array)\n",
    "plt.plot(x_array, y_array, 'o', c='r')"
   ]
  },
  {
   "cell_type": "code",
   "execution_count": null,
   "id": "2dc6f336",
   "metadata": {},
   "outputs": [],
   "source": []
  }
 ],
 "metadata": {
  "kernelspec": {
   "display_name": "Python 3 (ipykernel)",
   "language": "python",
   "name": "python3"
  },
  "language_info": {
   "codemirror_mode": {
    "name": "ipython",
    "version": 3
   },
   "file_extension": ".py",
   "mimetype": "text/x-python",
   "name": "python",
   "nbconvert_exporter": "python",
   "pygments_lexer": "ipython3",
   "version": "3.10.12"
  }
 },
 "nbformat": 4,
 "nbformat_minor": 5
}
